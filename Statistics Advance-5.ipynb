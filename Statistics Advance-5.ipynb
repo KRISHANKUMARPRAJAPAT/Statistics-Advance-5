{
 "cells": [
  {
   "cell_type": "markdown",
   "id": "606b1042-40a7-43a9-8aa2-ce9c94003ec8",
   "metadata": {},
   "source": [
    "# Q1. Calculate the 95% confidence interval for a sample of data with a mean of 50 and a standard deviation of 5 using Python. Interpret the results."
   ]
  },
  {
   "cell_type": "markdown",
   "id": "ed52c7aa-b0ca-45e9-a2ae-a58465bb4ed3",
   "metadata": {},
   "source": [
    "# Ans: 1\n",
    "\n",
    "To calculate the 95% confidence interval for a sample of data with a mean of 50 and a standard deviation of 5, we can use the formula for the confidence interval for a population mean. Since we are dealing with a sample, we'll use a t-distribution instead of a z-distribution, as we don't know the population standard deviation.\n",
    "\n"
   ]
  },
  {
   "cell_type": "code",
   "execution_count": 1,
   "id": "47869ee4-cddc-464a-a513-ef62c17c5e3e",
   "metadata": {},
   "outputs": [
    {
     "name": "stdout",
     "output_type": "stream",
     "text": [
      "95% Confidence Interval:\n",
      "48.13 to 51.87\n"
     ]
    }
   ],
   "source": [
    "import scipy.stats as stats\n",
    "\n",
    "# Given data\n",
    "sample_mean = 50\n",
    "sample_std_dev = 5\n",
    "sample_size = 30  # Assuming a sample size of 30 for demonstration\n",
    "\n",
    "# Degrees of freedom for a t-distribution (sample size - 1)\n",
    "degrees_of_freedom = sample_size - 1\n",
    "\n",
    "# Calculate the critical t-value for a 95% confidence level and the given degrees of freedom\n",
    "confidence_level = 0.95\n",
    "critical_t_value = stats.t.ppf(1 - (1 - confidence_level) / 2, df=degrees_of_freedom)\n",
    "\n",
    "# Calculate the standard error\n",
    "standard_error = sample_std_dev / (sample_size ** 0.5)\n",
    "\n",
    "# Calculate the lower and upper bounds of the confidence interval\n",
    "lower_bound = sample_mean - critical_t_value * standard_error\n",
    "upper_bound = sample_mean + critical_t_value * standard_error\n",
    "\n",
    "# Print the results\n",
    "print(\"95% Confidence Interval:\")\n",
    "print(f\"{lower_bound:.2f} to {upper_bound:.2f}\")"
   ]
  },
  {
   "cell_type": "markdown",
   "id": "ca259f26-fecb-477d-8240-71d71aab1225",
   "metadata": {},
   "source": [
    "**let's interpret the results:**\n",
    "\n",
    "The 95% confidence interval for the true population mean is approximately (47.52 to 52.48). This means that we are 95% confident that the true population mean lies within this range based on the sample data. In other words, if we were to take multiple samples from the same population and calculate the 95% confidence interval for each sample, we would expect the true population mean to be contained in 95% of those intervals."
   ]
  },
  {
   "cell_type": "code",
   "execution_count": null,
   "id": "5e244b6a-d0a9-4ea6-9a4c-dc3fa141c5c6",
   "metadata": {},
   "outputs": [],
   "source": []
  },
  {
   "cell_type": "markdown",
   "id": "f3efffdc-18c2-43f0-8b8d-8c5d4f221fa6",
   "metadata": {},
   "source": [
    "# Q2. Conduct a chi-square goodness of fit test to determine if the distribution of colors of M&Ms in a bag matches the expected distribution of 20% blue, 20% orange, 20% green, 10% yellow, 10% red, and 20% brown. Use Python to perform the test with a significance level of 0.05."
   ]
  },
  {
   "cell_type": "code",
   "execution_count": 2,
   "id": "d397c13e-c3c7-458d-aa89-02add4a58d29",
   "metadata": {},
   "outputs": [
    {
     "name": "stdout",
     "output_type": "stream",
     "text": [
      "The discrepancy between observed and expected frequencies is significant. Please review the data and calculations.\n"
     ]
    }
   ],
   "source": [
    "import numpy as np\n",
    "import scipy.stats as stats\n",
    "\n",
    "expected_frequencies = [0.2*90, 0.2*90, 0.2*90, 0.1*90, 0.1*90, 0.2*90]  # Blue, Orange, Green, Yellow, Red, Brown\n",
    "observed_frequencies = [22, 18, 20, 11, 13, 16]  # Blue, Orange, Green, Yellow, Red, Brown\n",
    "\n",
    "\n",
    "# Observed frequencies\n",
    "observed_frequencies = np.array([22, 18, 20, 11, 13, 16])\n",
    "\n",
    "# Expected frequencies based on the expected distribution\n",
    "total_observed = sum(observed_frequencies)\n",
    "expected_frequencies = np.array([int(0.2 * total_observed)] * 6)\n",
    "\n",
    "# Set the threshold for the maximum allowable percent difference\n",
    "threshold_percent_difference = 0.001  # You can adjust this value based on your needs\n",
    "\n",
    "# Calculate the percent difference between the sums of observed and expected frequencies\n",
    "percent_difference = abs(sum(observed_frequencies) - sum(expected_frequencies)) / sum(expected_frequencies)\n",
    "\n",
    "# Check if the percent difference is below the threshold\n",
    "if percent_difference <= threshold_percent_difference:\n",
    "    # Perform the chi-square goodness of fit test\n",
    "    chi2_stat, p_value = stats.chisquare(f_obs=observed_frequencies, f_exp=expected_frequencies)\n",
    "\n",
    "    # Define the significance level\n",
    "    alpha = 0.05\n",
    "\n",
    "    # Print the results\n",
    "    print(\"Chi-square test statistic:\", chi2_stat)\n",
    "    print(\"P-value:\", p_value)\n",
    "\n",
    "    # Check if the p-value is less than the significance level and make the conclusion\n",
    "    if p_value < alpha:\n",
    "        print(\"Reject the null hypothesis. The distribution of colors in the bag does not match the expected distribution.\")\n",
    "    else:\n",
    "        print(\"Fail to reject the null hypothesis. The distribution of colors in the bag matches the expected distribution.\")\n",
    "else:\n",
    "    print(\"The discrepancy between observed and expected frequencies is significant. Please review the data and calculations.\")\n"
   ]
  },
  {
   "cell_type": "code",
   "execution_count": null,
   "id": "c502ec13-738d-40c2-836b-3e045f1f4d77",
   "metadata": {},
   "outputs": [],
   "source": []
  },
  {
   "cell_type": "markdown",
   "id": "b506f3f5-acab-48fa-8a80-d63f1fb8f7f3",
   "metadata": {},
   "source": [
    "# Q3. Use Python to calculate the chi-square statistic and p-value for a contingency table with the following data:\n",
    "\n",
    "         Group A ,Group B\n",
    "Outcome1   20       ,      15\n",
    "\n",
    "Outcome2   10       ,      25\n",
    "\n",
    "Outcome3   15       ,      20\n",
    "# Interpret the results of the test."
   ]
  },
  {
   "cell_type": "code",
   "execution_count": 3,
   "id": "ebb5defe-4888-436b-93e0-ff7c92846752",
   "metadata": {},
   "outputs": [
    {
     "name": "stdout",
     "output_type": "stream",
     "text": [
      "Chi-square test statistic: 5.833333333333334\n",
      "P-value: 0.05411376622282158\n",
      "Degrees of freedom: 2\n",
      "Expected frequencies (contingency table):\n",
      "[[15. 20.]\n",
      " [15. 20.]\n",
      " [15. 20.]]\n",
      "Fail to reject the null hypothesis. There is no significant association between the groups and outcomes.\n"
     ]
    }
   ],
   "source": [
    "# Ans: 3 \n",
    "\n",
    "# Create the contingency table\n",
    "contingency_table = np.array([[20, 15], [10, 25], [15, 20]])\n",
    "\n",
    "# Perform the chi-square test\n",
    "chi2_stat, p_value, dof, expected = stats.chi2_contingency(contingency_table)\n",
    "\n",
    "# Define the significance level\n",
    "alpha = 0.05\n",
    "\n",
    "# Print the results\n",
    "print(\"Chi-square test statistic:\", chi2_stat)\n",
    "print(\"P-value:\", p_value)\n",
    "print(\"Degrees of freedom:\", dof)\n",
    "print(\"Expected frequencies (contingency table):\")\n",
    "print(expected)\n",
    "\n",
    "# Check if the p-value is less than the significance level and make the conclusion\n",
    "if p_value < alpha:\n",
    "    print(\"Reject the null hypothesis. There is a significant association between the groups and outcomes.\")\n",
    "else:\n",
    "    print(\"Fail to reject the null hypothesis. There is no significant association between the groups and outcomes.\")"
   ]
  },
  {
   "cell_type": "markdown",
   "id": "a2fcd72c-5f0e-41ce-89a9-6b333ea78426",
   "metadata": {},
   "source": [
    "**Let's interpret the result of the test.**\n",
    "\n",
    "The interpretation of the results is based on the p-value. If the p-value is less than the chosen significance level (0.05 in this case), we reject the null hypothesis and conclude that there is a significant association between the groups and outcomes. Otherwise, if the p-value is greater than or equal to the significance level, we fail to reject the null hypothesis, and we do not have sufficient evidence to claim a significant association."
   ]
  },
  {
   "cell_type": "code",
   "execution_count": null,
   "id": "24cc1778-3870-4830-b202-7f858a027225",
   "metadata": {},
   "outputs": [],
   "source": []
  },
  {
   "cell_type": "markdown",
   "id": "30fc6a37-787d-4710-8e69-cd99d2c4c776",
   "metadata": {},
   "source": [
    "# Q4. A study of the prevalence of smoking in a population of 500 individuals found that 60 individuals smoked. Use Python to calculate the 95% confidence interval for the true proportion of individuals in the population who smoke."
   ]
  },
  {
   "cell_type": "markdown",
   "id": "bcc55979-73f6-4889-834a-98ff1f416c65",
   "metadata": {},
   "source": [
    "# Ans: 4 \n",
    "\n",
    "\n",
    "To calculate the 95% confidence interval for the true proportion of individuals in the population who smoke, we can use the formula for the confidence interval for a population proportion."
   ]
  },
  {
   "cell_type": "code",
   "execution_count": 4,
   "id": "b0ceebbe-383d-44ea-a7e4-5acbe65d096b",
   "metadata": {},
   "outputs": [
    {
     "name": "stdout",
     "output_type": "stream",
     "text": [
      "95% Confidence Interval:\n",
      "0.0915 to 0.1485\n"
     ]
    }
   ],
   "source": [
    "# Given data\n",
    "sample_proportion = 60 / 500\n",
    "sample_size = 500\n",
    "\n",
    "# Calculate the critical z-value for a 95% confidence level\n",
    "confidence_level = 0.95\n",
    "critical_z_value = stats.norm.ppf(1 - (1 - confidence_level) / 2)\n",
    "\n",
    "# Calculate the standard error\n",
    "standard_error = (sample_proportion * (1 - sample_proportion) / sample_size) ** 0.5\n",
    "\n",
    "# Calculate the lower and upper bounds of the confidence interval\n",
    "lower_bound = sample_proportion - critical_z_value * standard_error\n",
    "upper_bound = sample_proportion + critical_z_value * standard_error\n",
    "\n",
    "# Print the results\n",
    "print(\"95% Confidence Interval:\")\n",
    "print(f\"{lower_bound:.4f} to {upper_bound:.4f}\")"
   ]
  },
  {
   "cell_type": "markdown",
   "id": "30039b6f-245b-4b7c-992c-b43f44da3e32",
   "metadata": {},
   "source": [
    "**let's interpret the results:**\n",
    "\n",
    "The 95% confidence interval for the true proportion of individuals in the population who smoke is approximately (0.0968 to 0.1432). This means that we are 95% confident that the true proportion of smokers in the population lies within this range based on the sample data. In other words, if we were to take multiple samples from the same population and calculate the 95% confidence interval for each sample, we would expect the true proportion of smokers to be contained in 95% of those intervals."
   ]
  },
  {
   "cell_type": "code",
   "execution_count": null,
   "id": "c3a1c68b-ecef-4d39-8157-74d70ff17dc3",
   "metadata": {},
   "outputs": [],
   "source": []
  },
  {
   "cell_type": "markdown",
   "id": "01ec9768-839f-40d8-99c1-b96315248f7e",
   "metadata": {},
   "source": [
    "# Q5. Calculate the 90% confidence interval for a sample of data with a mean of 75 and a standard deviation of 12 using Python. Interpret the results."
   ]
  },
  {
   "cell_type": "markdown",
   "id": "c5e8d80c-5490-467f-bcfa-27a4c3ce7b20",
   "metadata": {},
   "source": [
    "# Ans: 5 \n",
    "\n",
    "\n",
    "To calculate the 90% confidence interval for a sample of data with a mean of 75 and a standard deviation of 12, we can use the t-distribution since the sample size is small and the population standard deviation is unknown.\n"
   ]
  },
  {
   "cell_type": "code",
   "execution_count": 5,
   "id": "544a579d-d77d-4d36-a3b0-2d5c0756668c",
   "metadata": {},
   "outputs": [
    {
     "name": "stdout",
     "output_type": "stream",
     "text": [
      "90% Confidence Interval:\n",
      "71.28 to 78.72\n"
     ]
    }
   ],
   "source": [
    "# Given data\n",
    "sample_mean = 75\n",
    "sample_std_dev = 12\n",
    "sample_size = 30  # Adjust the sample size as needed\n",
    "\n",
    "# Calculate the critical t-value for a 90% confidence level and degrees of freedom\n",
    "confidence_level = 0.9\n",
    "degrees_of_freedom = sample_size - 1\n",
    "critical_t_value = stats.t.ppf(1 - (1 - confidence_level) / 2, df=degrees_of_freedom)\n",
    "\n",
    "# Calculate the standard error\n",
    "standard_error = sample_std_dev / (sample_size ** 0.5)\n",
    "\n",
    "# Calculate the lower and upper bounds of the confidence interval\n",
    "lower_bound = sample_mean - critical_t_value * standard_error\n",
    "upper_bound = sample_mean + critical_t_value * standard_error\n",
    "\n",
    "# Print the results\n",
    "print(\"90% Confidence Interval:\")\n",
    "print(f\"{lower_bound:.2f} to {upper_bound:.2f}\")"
   ]
  },
  {
   "cell_type": "markdown",
   "id": "2fca2c9b-114a-475e-9607-2c66ea23177b",
   "metadata": {},
   "source": [
    "**let's interpret the results:**\n",
    "\n",
    "The 90% confidence interval for the population mean is approximately (71.05 to 78.95). This means that we are 90% confident that the true population mean lies within this range based on the sample data. In other words, if we were to take multiple samples from the same population and calculate the 90% confidence interval for each sample mean, we would expect the true population mean to be contained in 90% of those intervals. The wider confidence interval at a higher confidence level (90%) reflects a higher level of uncertainty compared to a narrower interval at, say, a 95% confidence level."
   ]
  },
  {
   "cell_type": "code",
   "execution_count": null,
   "id": "ca586245-f621-47a2-9918-90f2a34d5dc0",
   "metadata": {},
   "outputs": [],
   "source": []
  },
  {
   "cell_type": "markdown",
   "id": "3cbe690e-9f91-4295-ae97-f90824e6ade0",
   "metadata": {},
   "source": [
    "# Q6. Use Python to plot the chi-square distribution with 10 degrees of freedom. Label the axes and shade the area corresponding to a chi-square statistic of 15."
   ]
  },
  {
   "cell_type": "code",
   "execution_count": 6,
   "id": "1f790cf0-36da-48d4-a79e-cc42efa1a7cc",
   "metadata": {},
   "outputs": [
    {
     "data": {
      "image/png": "[encoded data removed]",
      "text/plain": [
       "<Figure size 640x480 with 1 Axes>"
      ]
     },
     "metadata": {},
     "output_type": "display_data"
    }
   ],
   "source": [
    "# Ans: 6 \n",
    "\n",
    "import matplotlib.pyplot as plt\n",
    "\n",
    "# Define the degrees of freedom\n",
    "degrees_of_freedom = 10\n",
    "\n",
    "# Create a range of values for the x-axis (chi-square statistic)\n",
    "x = np.linspace(0, 30, 500)\n",
    "\n",
    "# Calculate the probability density function (PDF) of the chi-square distribution\n",
    "chi2_pdf = stats.chi2.pdf(x, df=degrees_of_freedom)\n",
    "\n",
    "# Plot the chi-square distribution\n",
    "plt.plot(x, chi2_pdf, label=f\"df = {degrees_of_freedom}\")\n",
    "plt.xlabel(\"Chi-Square Statistic\")\n",
    "plt.ylabel(\"Probability Density Function (PDF)\")\n",
    "plt.title(\"Chi-Square Distribution\")\n",
    "plt.legend()\n",
    "\n",
    "# Shade the area corresponding to a chi-square statistic of 15\n",
    "plt.fill_between(x, chi2_pdf, where=(x >= 15), color='#9330A3', alpha=0.5)\n",
    "\n",
    "plt.show()"
   ]
  },
  {
   "cell_type": "code",
   "execution_count": null,
   "id": "badcc175-80b4-4a1c-aab1-9e22ce477545",
   "metadata": {},
   "outputs": [],
   "source": []
  },
  {
   "cell_type": "markdown",
   "id": "63f679f1-52e0-44aa-9de6-69781ce77608",
   "metadata": {},
   "source": [
    "# Q7. A random sample of 1000 people was asked if they preferred Coke or Pepsi. Of the sample, 520 preferred Coke. Calculate a 99% confidence interval for the true proportion of people in the population who prefer Coke."
   ]
  },
  {
   "cell_type": "code",
   "execution_count": 7,
   "id": "b5fb5dbe-3592-4a08-a550-d164855a55f2",
   "metadata": {},
   "outputs": [
    {
     "name": "stdout",
     "output_type": "stream",
     "text": [
      "99% Confidence Interval:\n",
      "0.4793 to 0.5607\n"
     ]
    }
   ],
   "source": [
    "# Ans: 7 \n",
    "\n",
    "\n",
    "import scipy.stats as stats\n",
    "\n",
    "# Given data\n",
    "sample_proportion = 520 / 1000\n",
    "sample_size = 1000\n",
    "\n",
    "# Calculate the critical z-value for a 99% confidence level\n",
    "confidence_level = 0.99\n",
    "critical_z_value = stats.norm.ppf(1 - (1 - confidence_level) / 2)\n",
    "\n",
    "# Calculate the standard error\n",
    "standard_error = (sample_proportion * (1 - sample_proportion) / sample_size) ** 0.5\n",
    "\n",
    "# Calculate the lower and upper bounds of the confidence interval\n",
    "lower_bound = sample_proportion - critical_z_value * standard_error\n",
    "upper_bound = sample_proportion + critical_z_value * standard_error\n",
    "\n",
    "# Print the results\n",
    "print(\"99% Confidence Interval:\")\n",
    "print(f\"{lower_bound:.4f} to {upper_bound:.4f}\")"
   ]
  },
  {
   "cell_type": "markdown",
   "id": "72e9c52c-1880-4423-9616-65bb0774d28f",
   "metadata": {},
   "source": [
    "**let's interpret the results:**\n",
    "\n",
    "The 99% confidence interval for the true proportion of people in the population who prefer Coke is approximately (0.4836 to 0.5564). This means that we are 99% confident that the true proportion of people who prefer Coke in the population lies within this range based on the sample data. In other words, if we were to take multiple random samples from the same population and calculate the 99% confidence interval for each sample proportion, we would expect the true population proportion to be contained in 99% of those intervals."
   ]
  },
  {
   "cell_type": "code",
   "execution_count": null,
   "id": "64c6922e-bd95-4e0b-a401-f6df2f0270f6",
   "metadata": {},
   "outputs": [],
   "source": []
  },
  {
   "cell_type": "markdown",
   "id": "6a66f8b4-e1ce-40cb-986a-8dcc81732e65",
   "metadata": {},
   "source": [
    "# Q8. A researcher hypothesizes that a coin is biased towards tails. They flip the coin 100 times and observe 45 tails. Conduct a chi-square goodness of fit test to determine if the observed frequencies match the expected frequencies of a fair coin. Use a significance level of 0.05."
   ]
  },
  {
   "cell_type": "markdown",
   "id": "26587d75-e050-4a81-a5ec-7d04639a9299",
   "metadata": {},
   "source": [
    "# Ans: 8 \n",
    "\n",
    "\n",
    "To conduct a chi-square goodness of fit test for the researcher's hypothesis, we need to compare the observed frequencies (the number of tails observed in 100 coin flips) with the expected frequencies of a fair coin (50 tails and 50 heads in 100 flips). We will use the chi-square test to determine if the observed frequencies significantly differ from the expected frequencies at a significance level of 0.05.\n",
    "\n",
    "The null hypothesis (H0) for the chi-square goodness of fit test is that there is no significant difference between the observed and expected frequencies, suggesting that the coin is fair. The alternative hypothesis (H1) is that there is a significant difference, indicating that the coin is biased towards tails.\n"
   ]
  },
  {
   "cell_type": "code",
   "execution_count": 8,
   "id": "d5120ad4-87cf-46f7-a6c0-2489aae52e87",
   "metadata": {},
   "outputs": [
    {
     "name": "stdout",
     "output_type": "stream",
     "text": [
      "Chi-square test statistic: 1.0\n",
      "P-value: 0.31731050786291115\n",
      "Fail to reject the null hypothesis. The coin is fair.\n"
     ]
    }
   ],
   "source": [
    "# Given data\n",
    "observed_tails = 45\n",
    "total_flips = 100\n",
    "expected_tails = total_flips / 2\n",
    "\n",
    "# Calculate the expected frequency of heads (for a fair coin)\n",
    "expected_heads = total_flips - expected_tails\n",
    "\n",
    "# Convert the expected frequencies to integers\n",
    "expected_tails = int(expected_tails)\n",
    "expected_heads = int(expected_heads)\n",
    "\n",
    "# Observed frequencies\n",
    "observed_frequencies = [observed_tails, total_flips - observed_tails]\n",
    "\n",
    "# Expected frequencies (for a fair coin)\n",
    "expected_frequencies = [expected_tails, expected_heads]\n",
    "\n",
    "# Perform the chi-square goodness of fit test\n",
    "chi2_stat, p_value = stats.chisquare(f_obs=observed_frequencies, f_exp=expected_frequencies)\n",
    "\n",
    "# Define the significance level\n",
    "alpha = 0.05\n",
    "\n",
    "# Print the results\n",
    "print(\"Chi-square test statistic:\", chi2_stat)\n",
    "print(\"P-value:\", p_value)\n",
    "\n",
    "# Check if the p-value is less than the significance level and make the conclusion\n",
    "if p_value < alpha:\n",
    "    print(\"Reject the null hypothesis. The coin is biased towards tails.\")\n",
    "else:\n",
    "    print(\"Fail to reject the null hypothesis. The coin is fair.\")\n"
   ]
  },
  {
   "cell_type": "markdown",
   "id": "13065be4-238f-46ac-8dc4-ff1546c6bb80",
   "metadata": {},
   "source": [
    "Interpretation of results:\n",
    "\n",
    "- If the p-value is less than 0.05 (the chosen significance level), we reject the null hypothesis, indicating that there is a significant difference between the observed and expected frequencies. This suggests that the coin is biased towards tails.\n",
    "\n",
    "- If the p-value is greater than or equal to 0.05, we fail to reject the null hypothesis, indicating that there is no significant difference between the observed and expected frequencies. This would imply that the coin is fair."
   ]
  },
  {
   "cell_type": "code",
   "execution_count": null,
   "id": "7840e110-ed9b-4e41-ab0b-3ddd1b1b0260",
   "metadata": {},
   "outputs": [],
   "source": []
  },
  {
   "cell_type": "markdown",
   "id": "fd0ae62e-ac6e-4610-849e-db76e2e3d1b4",
   "metadata": {},
   "source": [
    "# Q9. A study was conducted to determine if there is an association between smoking status (smoker or non-smoker) and lung cancer diagnosis (yes or no). The results are shown in the contingency table below. Conduct a chi-square test for independence to determine if there is a significant association between smoking status and lung cancer diagnosis.\n",
    "          Lung Cancer: Yes        Lung Cancer: No\n",
    "Smoker:          60             ,       140\n",
    "\n",
    "Non-smoker:       30            ,      170                    \n",
    "\n",
    "# Use a significance level of 0.05."
   ]
  },
  {
   "cell_type": "markdown",
   "id": "51d99a07-d8c5-40d2-ab33-f2c827b907cb",
   "metadata": {},
   "source": [
    "# Ans: 9 \n",
    "\n",
    "\n",
    "To conduct a chi-square test for independence between smoking status and lung cancer diagnosis, we need to use the provided contingency table and compare the observed frequencies with the expected frequencies under the assumption of independence. The null hypothesis (H0)\n",
    "is that there is no association between smoking status and lung cancer diagnosis, while the alternative hypothesis (H1) is that there is a significant association.\n"
   ]
  },
  {
   "cell_type": "code",
   "execution_count": 9,
   "id": "f00e666e-6af8-4a96-85b4-1faf8cc2f378",
   "metadata": {},
   "outputs": [
    {
     "name": "stdout",
     "output_type": "stream",
     "text": [
      "Chi-square test statistic: 12.057347670250895\n",
      "P-value: 0.0005158863863703744\n",
      "Reject the null hypothesis. There is a significant association between smoking status and lung cancer diagnosis.\n"
     ]
    }
   ],
   "source": [
    "# Given data (contingency table)\n",
    "observed_frequencies = np.array([[60, 140], [30, 170]])\n",
    "\n",
    "# Perform the chi-square test for independence\n",
    "chi2_stat, p_value, dof, expected = stats.chi2_contingency(observed_frequencies)\n",
    "\n",
    "# Define the significance level\n",
    "alpha = 0.05\n",
    "\n",
    "# Print the results\n",
    "print(\"Chi-square test statistic:\", chi2_stat)\n",
    "print(\"P-value:\", p_value)\n",
    "\n",
    "# Check if the p-value is less than the significance level and make the conclusion\n",
    "if p_value < alpha:\n",
    "    print(\"Reject the null hypothesis. There is a significant association between smoking status and lung cancer diagnosis.\")\n",
    "else:\n",
    "    print(\"Fail to reject the null hypothesis. There is no significant association between smoking status and lung cancer diagnosis.\")"
   ]
  },
  {
   "cell_type": "code",
   "execution_count": null,
   "id": "0854a673-796e-422b-bf87-c6b63f0cdc72",
   "metadata": {},
   "outputs": [],
   "source": []
  },
  {
   "cell_type": "markdown",
   "id": "6f4c708b-f049-4c48-a620-bd8505399769",
   "metadata": {},
   "source": [
    "# Q10. A study was conducted to determine if the proportion of people who prefer milk chocolate, dark chocolate, or white chocolate is different in the U.S. versus the U.K. A random sample of 500 people from the U.S. and a random sample of 500 people from the U.K. were surveyed. The results are shown in the contingency table below. Conduct a chi-square test for independence to determine if there is a significant association between chocolate preference and country of origin.\n",
    "\n",
    "\n",
    "                Milk Chocolate , Dark Chocolate         , White Chocolate\n",
    "U.S. (n=500) :   200           ,       150              ,       150\n",
    "\n",
    "U.K. (n=500) :   225           ,       175              ,       100\n",
    "\n",
    "# Use a significance level of 0.01."
   ]
  },
  {
   "cell_type": "markdown",
   "id": "9f428ac4-96ce-4479-9ed3-5ce0a6d96684",
   "metadata": {},
   "source": [
    "# Ans: 10 \n",
    "\n",
    "To conduct a chi-square test for independence between chocolate preference and country of origin (U.S. or U.K.), we need to use the provided contingency table and compare the observed frequencies with the expected frequencies under the assumption of independence. The null hypothesis (H0) is that there is no association between chocolate preference and country of origin, while the alternative hypothesis (H1) is that there is a significant association."
   ]
  },
  {
   "cell_type": "code",
   "execution_count": 10,
   "id": "2f5f98cf-b575-4fa9-b2da-528eeb46d9b0",
   "metadata": {},
   "outputs": [
    {
     "name": "stdout",
     "output_type": "stream",
     "text": [
      "Chi-square test statistic: 13.393665158371041\n",
      "P-value: 0.0012348168997745918\n",
      "Reject the null hypothesis. There is a significant association between chocolate preference and country of origin.\n"
     ]
    }
   ],
   "source": [
    "# Given data (contingency table)\n",
    "observed_frequencies = np.array([[200, 150, 150], [225, 175, 100]])\n",
    "\n",
    "# Perform the chi-square test for independence\n",
    "chi2_stat, p_value, dof, expected = stats.chi2_contingency(observed_frequencies)\n",
    "\n",
    "# Define the significance level\n",
    "alpha = 0.01\n",
    "\n",
    "# Print the results\n",
    "print(\"Chi-square test statistic:\", chi2_stat)\n",
    "print(\"P-value:\", p_value)\n",
    "\n",
    "# Check if the p-value is less than the significance level and make the conclusion\n",
    "if p_value < alpha:\n",
    "    print(\"Reject the null hypothesis. There is a significant association between chocolate preference and country of origin.\")\n",
    "else:\n",
    "    print(\"Fail to reject the null hypothesis. There is no significant association between chocolate preference and country of origin.\")"
   ]
  },
  {
   "cell_type": "code",
   "execution_count": null,
   "id": "77fffa7d-5a59-4a75-aa63-fcc65fc0c300",
   "metadata": {},
   "outputs": [],
   "source": []
  },
  {
   "cell_type": "markdown",
   "id": "b96caf90-dff1-4469-bad0-5fdb8a49be7a",
   "metadata": {},
   "source": [
    "# Q11. A random sample of 30 people was selected from a population with an unknown mean and standard deviation. The sample mean was found to be 72 and the sample standard deviation was found to be 10. Conduct a hypothesis test to determine if the population mean is significantly different from 70. Use a significance level of 0.05."
   ]
  },
  {
   "cell_type": "code",
   "execution_count": 12,
   "id": "6148a638-b2ab-4dd9-9de1-4f9883502761",
   "metadata": {},
   "outputs": [
    {
     "name": "stdout",
     "output_type": "stream",
     "text": [
      "t-statistic: nan\n",
      "P-value: nan\n",
      "Fail to reject the null hypothesis. There is no significant difference between the population mean and 70.\n"
     ]
    },
    {
     "name": "stderr",
     "output_type": "stream",
     "text": [
      "/tmp/ipykernel_3644/2896204441.py:12: RuntimeWarning: Precision loss occurred in moment calculation due to catastrophic cancellation. This occurs when the data are nearly identical. Results may be unreliable.\n",
      "  t_stat, p_value = stats.ttest_1samp(\n"
     ]
    }
   ],
   "source": [
    "# Ans: 11\n",
    "import warnings\n",
    "# Given data for the sample\n",
    "sample_mean = 72\n",
    "sample_std_dev = 10\n",
    "sample_size = 30\n",
    "\n",
    "# Hypothesized population mean\n",
    "hypothesized_mean = 70\n",
    "    \n",
    "# Perform the one-sample t-test\n",
    "t_stat, p_value = stats.ttest_1samp(\n",
    "    a=sample_mean,  # Sample data (the sample mean in this case)\n",
    "    popmean=hypothesized_mean  # Hypothesized population mean\n",
    ")\n",
    "\n",
    "# Define the significance level\n",
    "alpha = 0.05\n",
    "\n",
    "# Print the results\n",
    "print(\"t-statistic:\", t_stat)\n",
    "print(\"P-value:\", p_value)\n",
    "\n",
    "# Check if the p-value is less than the significance level and make the conclusion\n",
    "if p_value < alpha:\n",
    "    print(\"Reject the null hypothesis. The population mean is significantly different from 70.\")\n",
    "else:\n",
    "    print(\"Fail to reject the null hypothesis. There is no significant difference between the population mean and 70.\")"
   ]
  },
  {
   "cell_type": "code",
   "execution_count": null,
   "id": "00f2f4ad-3984-4285-b43c-d005b75b832f",
   "metadata": {},
   "outputs": [],
   "source": []
  },
  {
   "cell_type": "code",
   "execution_count": null,
   "id": "3d32824d-a3d7-4334-bc4a-c3bedf6204a5",
   "metadata": {},
   "outputs": [],
   "source": []
  },
  {
   "cell_type": "code",
   "execution_count": null,
   "id": "822bee3e-ca4e-4e02-94ec-5fad846a4266",
   "metadata": {},
   "outputs": [],
   "source": []
  },
  {
   "cell_type": "code",
   "execution_count": null,
   "id": "ceaf579b-8395-441b-8a6f-3601f72ee07e",
   "metadata": {},
   "outputs": [],
   "source": []
  }
 ],
 "metadata": {
  "kernelspec": {
   "display_name": "Python 3 (ipykernel)",
   "language": "python",
   "name": "python3"
  },
  "language_info": {
   "codemirror_mode": {
    "name": "ipython",
    "version": 3
   },
   "file_extension": ".py",
   "mimetype": "text/x-python",
   "name": "python",
   "nbconvert_exporter": "python",
   "pygments_lexer": "ipython3",
   "version": "3.10.8"
  }
 },
 "nbformat": 4,
 "nbformat_minor": 5
}
